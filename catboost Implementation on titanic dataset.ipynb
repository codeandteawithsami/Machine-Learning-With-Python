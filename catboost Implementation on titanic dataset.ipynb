{
 "cells": [
  {
   "cell_type": "markdown",
   "id": "a1da101a",
   "metadata": {},
   "source": [
    "![titanic](https://media.istockphoto.com/id/464771689/photo/ocean-liner.jpg?b=1&s=612x612&w=0&k=20&c=-__T5VU6p7SZ7xUWZADwwodFF9rTF5egxNLJPP0oX9c=)"
   ]
  },
  {
   "cell_type": "code",
   "execution_count": 1,
   "id": "29f8d308",
   "metadata": {},
   "outputs": [],
   "source": [
    "import pandas as pd\n",
    "import numpy as np\n",
    "import matplotlib.pyplot as plt"
   ]
  },
  {
   "cell_type": "code",
   "execution_count": 2,
   "id": "d701f5fd",
   "metadata": {},
   "outputs": [],
   "source": [
    "df = pd.read_csv('titanic.csv')"
   ]
  },
  {
   "cell_type": "code",
   "execution_count": 3,
   "id": "8dfe5f0b",
   "metadata": {},
   "outputs": [
    {
     "data": {
      "text/html": [
       "<div>\n",
       "<style scoped>\n",
       "    .dataframe tbody tr th:only-of-type {\n",
       "        vertical-align: middle;\n",
       "    }\n",
       "\n",
       "    .dataframe tbody tr th {\n",
       "        vertical-align: top;\n",
       "    }\n",
       "\n",
       "    .dataframe thead th {\n",
       "        text-align: right;\n",
       "    }\n",
       "</style>\n",
       "<table border=\"1\" class=\"dataframe\">\n",
       "  <thead>\n",
       "    <tr style=\"text-align: right;\">\n",
       "      <th></th>\n",
       "      <th>PassengerId</th>\n",
       "      <th>Name</th>\n",
       "      <th>Pclass</th>\n",
       "      <th>Sex</th>\n",
       "      <th>Age</th>\n",
       "      <th>SibSp</th>\n",
       "      <th>Parch</th>\n",
       "      <th>Ticket</th>\n",
       "      <th>Fare</th>\n",
       "      <th>Cabin</th>\n",
       "      <th>Embarked</th>\n",
       "      <th>Survived</th>\n",
       "    </tr>\n",
       "  </thead>\n",
       "  <tbody>\n",
       "    <tr>\n",
       "      <th>0</th>\n",
       "      <td>1</td>\n",
       "      <td>Braund, Mr. Owen Harris</td>\n",
       "      <td>3</td>\n",
       "      <td>male</td>\n",
       "      <td>22.0</td>\n",
       "      <td>1</td>\n",
       "      <td>0</td>\n",
       "      <td>A/5 21171</td>\n",
       "      <td>7.2500</td>\n",
       "      <td>NaN</td>\n",
       "      <td>S</td>\n",
       "      <td>0</td>\n",
       "    </tr>\n",
       "    <tr>\n",
       "      <th>1</th>\n",
       "      <td>2</td>\n",
       "      <td>Cumings, Mrs. John Bradley (Florence Briggs Th...</td>\n",
       "      <td>1</td>\n",
       "      <td>female</td>\n",
       "      <td>38.0</td>\n",
       "      <td>1</td>\n",
       "      <td>0</td>\n",
       "      <td>PC 17599</td>\n",
       "      <td>71.2833</td>\n",
       "      <td>C85</td>\n",
       "      <td>C</td>\n",
       "      <td>1</td>\n",
       "    </tr>\n",
       "    <tr>\n",
       "      <th>2</th>\n",
       "      <td>3</td>\n",
       "      <td>Heikkinen, Miss. Laina</td>\n",
       "      <td>3</td>\n",
       "      <td>female</td>\n",
       "      <td>26.0</td>\n",
       "      <td>0</td>\n",
       "      <td>0</td>\n",
       "      <td>STON/O2. 3101282</td>\n",
       "      <td>7.9250</td>\n",
       "      <td>NaN</td>\n",
       "      <td>S</td>\n",
       "      <td>1</td>\n",
       "    </tr>\n",
       "    <tr>\n",
       "      <th>3</th>\n",
       "      <td>4</td>\n",
       "      <td>Futrelle, Mrs. Jacques Heath (Lily May Peel)</td>\n",
       "      <td>1</td>\n",
       "      <td>female</td>\n",
       "      <td>35.0</td>\n",
       "      <td>1</td>\n",
       "      <td>0</td>\n",
       "      <td>113803</td>\n",
       "      <td>53.1000</td>\n",
       "      <td>C123</td>\n",
       "      <td>S</td>\n",
       "      <td>1</td>\n",
       "    </tr>\n",
       "    <tr>\n",
       "      <th>4</th>\n",
       "      <td>5</td>\n",
       "      <td>Allen, Mr. William Henry</td>\n",
       "      <td>3</td>\n",
       "      <td>male</td>\n",
       "      <td>35.0</td>\n",
       "      <td>0</td>\n",
       "      <td>0</td>\n",
       "      <td>373450</td>\n",
       "      <td>8.0500</td>\n",
       "      <td>NaN</td>\n",
       "      <td>S</td>\n",
       "      <td>0</td>\n",
       "    </tr>\n",
       "  </tbody>\n",
       "</table>\n",
       "</div>"
      ],
      "text/plain": [
       "   PassengerId                                               Name  Pclass  \\\n",
       "0            1                            Braund, Mr. Owen Harris       3   \n",
       "1            2  Cumings, Mrs. John Bradley (Florence Briggs Th...       1   \n",
       "2            3                             Heikkinen, Miss. Laina       3   \n",
       "3            4       Futrelle, Mrs. Jacques Heath (Lily May Peel)       1   \n",
       "4            5                           Allen, Mr. William Henry       3   \n",
       "\n",
       "      Sex   Age  SibSp  Parch            Ticket     Fare Cabin Embarked  \\\n",
       "0    male  22.0      1      0         A/5 21171   7.2500   NaN        S   \n",
       "1  female  38.0      1      0          PC 17599  71.2833   C85        C   \n",
       "2  female  26.0      0      0  STON/O2. 3101282   7.9250   NaN        S   \n",
       "3  female  35.0      1      0            113803  53.1000  C123        S   \n",
       "4    male  35.0      0      0            373450   8.0500   NaN        S   \n",
       "\n",
       "   Survived  \n",
       "0         0  \n",
       "1         1  \n",
       "2         1  \n",
       "3         1  \n",
       "4         0  "
      ]
     },
     "execution_count": 3,
     "metadata": {},
     "output_type": "execute_result"
    }
   ],
   "source": [
    "df.head()"
   ]
  },
  {
   "cell_type": "code",
   "execution_count": 4,
   "id": "ba0f2d01",
   "metadata": {},
   "outputs": [
    {
     "data": {
      "text/html": [
       "<div>\n",
       "<style scoped>\n",
       "    .dataframe tbody tr th:only-of-type {\n",
       "        vertical-align: middle;\n",
       "    }\n",
       "\n",
       "    .dataframe tbody tr th {\n",
       "        vertical-align: top;\n",
       "    }\n",
       "\n",
       "    .dataframe thead th {\n",
       "        text-align: right;\n",
       "    }\n",
       "</style>\n",
       "<table border=\"1\" class=\"dataframe\">\n",
       "  <thead>\n",
       "    <tr style=\"text-align: right;\">\n",
       "      <th></th>\n",
       "      <th>PassengerId</th>\n",
       "      <th>Name</th>\n",
       "      <th>Pclass</th>\n",
       "      <th>Sex</th>\n",
       "      <th>Age</th>\n",
       "      <th>SibSp</th>\n",
       "      <th>Parch</th>\n",
       "      <th>Ticket</th>\n",
       "      <th>Fare</th>\n",
       "      <th>Cabin</th>\n",
       "      <th>Embarked</th>\n",
       "      <th>Survived</th>\n",
       "    </tr>\n",
       "  </thead>\n",
       "  <tbody>\n",
       "    <tr>\n",
       "      <th>886</th>\n",
       "      <td>887</td>\n",
       "      <td>Montvila, Rev. Juozas</td>\n",
       "      <td>2</td>\n",
       "      <td>male</td>\n",
       "      <td>27.0</td>\n",
       "      <td>0</td>\n",
       "      <td>0</td>\n",
       "      <td>211536</td>\n",
       "      <td>13.00</td>\n",
       "      <td>NaN</td>\n",
       "      <td>S</td>\n",
       "      <td>0</td>\n",
       "    </tr>\n",
       "    <tr>\n",
       "      <th>887</th>\n",
       "      <td>888</td>\n",
       "      <td>Graham, Miss. Margaret Edith</td>\n",
       "      <td>1</td>\n",
       "      <td>female</td>\n",
       "      <td>19.0</td>\n",
       "      <td>0</td>\n",
       "      <td>0</td>\n",
       "      <td>112053</td>\n",
       "      <td>30.00</td>\n",
       "      <td>B42</td>\n",
       "      <td>S</td>\n",
       "      <td>1</td>\n",
       "    </tr>\n",
       "    <tr>\n",
       "      <th>888</th>\n",
       "      <td>889</td>\n",
       "      <td>Johnston, Miss. Catherine Helen \"Carrie\"</td>\n",
       "      <td>3</td>\n",
       "      <td>female</td>\n",
       "      <td>NaN</td>\n",
       "      <td>1</td>\n",
       "      <td>2</td>\n",
       "      <td>W./C. 6607</td>\n",
       "      <td>23.45</td>\n",
       "      <td>NaN</td>\n",
       "      <td>S</td>\n",
       "      <td>0</td>\n",
       "    </tr>\n",
       "    <tr>\n",
       "      <th>889</th>\n",
       "      <td>890</td>\n",
       "      <td>Behr, Mr. Karl Howell</td>\n",
       "      <td>1</td>\n",
       "      <td>male</td>\n",
       "      <td>26.0</td>\n",
       "      <td>0</td>\n",
       "      <td>0</td>\n",
       "      <td>111369</td>\n",
       "      <td>30.00</td>\n",
       "      <td>C148</td>\n",
       "      <td>C</td>\n",
       "      <td>1</td>\n",
       "    </tr>\n",
       "    <tr>\n",
       "      <th>890</th>\n",
       "      <td>891</td>\n",
       "      <td>Dooley, Mr. Patrick</td>\n",
       "      <td>3</td>\n",
       "      <td>male</td>\n",
       "      <td>32.0</td>\n",
       "      <td>0</td>\n",
       "      <td>0</td>\n",
       "      <td>370376</td>\n",
       "      <td>7.75</td>\n",
       "      <td>NaN</td>\n",
       "      <td>Q</td>\n",
       "      <td>0</td>\n",
       "    </tr>\n",
       "  </tbody>\n",
       "</table>\n",
       "</div>"
      ],
      "text/plain": [
       "     PassengerId                                      Name  Pclass     Sex  \\\n",
       "886          887                     Montvila, Rev. Juozas       2    male   \n",
       "887          888              Graham, Miss. Margaret Edith       1  female   \n",
       "888          889  Johnston, Miss. Catherine Helen \"Carrie\"       3  female   \n",
       "889          890                     Behr, Mr. Karl Howell       1    male   \n",
       "890          891                       Dooley, Mr. Patrick       3    male   \n",
       "\n",
       "      Age  SibSp  Parch      Ticket   Fare Cabin Embarked  Survived  \n",
       "886  27.0      0      0      211536  13.00   NaN        S         0  \n",
       "887  19.0      0      0      112053  30.00   B42        S         1  \n",
       "888   NaN      1      2  W./C. 6607  23.45   NaN        S         0  \n",
       "889  26.0      0      0      111369  30.00  C148        C         1  \n",
       "890  32.0      0      0      370376   7.75   NaN        Q         0  "
      ]
     },
     "execution_count": 4,
     "metadata": {},
     "output_type": "execute_result"
    }
   ],
   "source": [
    "df.tail()"
   ]
  },
  {
   "cell_type": "code",
   "execution_count": 5,
   "id": "8a69122f",
   "metadata": {},
   "outputs": [
    {
     "name": "stdout",
     "output_type": "stream",
     "text": [
      "<class 'pandas.core.frame.DataFrame'>\n",
      "RangeIndex: 891 entries, 0 to 890\n",
      "Data columns (total 12 columns):\n",
      " #   Column       Non-Null Count  Dtype  \n",
      "---  ------       --------------  -----  \n",
      " 0   PassengerId  891 non-null    int64  \n",
      " 1   Name         891 non-null    object \n",
      " 2   Pclass       891 non-null    int64  \n",
      " 3   Sex          891 non-null    object \n",
      " 4   Age          714 non-null    float64\n",
      " 5   SibSp        891 non-null    int64  \n",
      " 6   Parch        891 non-null    int64  \n",
      " 7   Ticket       891 non-null    object \n",
      " 8   Fare         891 non-null    float64\n",
      " 9   Cabin        204 non-null    object \n",
      " 10  Embarked     889 non-null    object \n",
      " 11  Survived     891 non-null    int64  \n",
      "dtypes: float64(2), int64(5), object(5)\n",
      "memory usage: 83.7+ KB\n"
     ]
    }
   ],
   "source": [
    "df.info()"
   ]
  },
  {
   "cell_type": "code",
   "execution_count": 6,
   "id": "92e7a6fd",
   "metadata": {},
   "outputs": [],
   "source": [
    "df = df.drop(['PassengerId','Name','Pclass','SibSp','Parch','Ticket','Cabin','Embarked'],axis=1)"
   ]
  },
  {
   "cell_type": "code",
   "execution_count": 7,
   "id": "7dd69ae2",
   "metadata": {},
   "outputs": [
    {
     "data": {
      "text/html": [
       "<div>\n",
       "<style scoped>\n",
       "    .dataframe tbody tr th:only-of-type {\n",
       "        vertical-align: middle;\n",
       "    }\n",
       "\n",
       "    .dataframe tbody tr th {\n",
       "        vertical-align: top;\n",
       "    }\n",
       "\n",
       "    .dataframe thead th {\n",
       "        text-align: right;\n",
       "    }\n",
       "</style>\n",
       "<table border=\"1\" class=\"dataframe\">\n",
       "  <thead>\n",
       "    <tr style=\"text-align: right;\">\n",
       "      <th></th>\n",
       "      <th>Sex</th>\n",
       "      <th>Age</th>\n",
       "      <th>Fare</th>\n",
       "      <th>Survived</th>\n",
       "    </tr>\n",
       "  </thead>\n",
       "  <tbody>\n",
       "    <tr>\n",
       "      <th>0</th>\n",
       "      <td>male</td>\n",
       "      <td>22.0</td>\n",
       "      <td>7.2500</td>\n",
       "      <td>0</td>\n",
       "    </tr>\n",
       "    <tr>\n",
       "      <th>1</th>\n",
       "      <td>female</td>\n",
       "      <td>38.0</td>\n",
       "      <td>71.2833</td>\n",
       "      <td>1</td>\n",
       "    </tr>\n",
       "    <tr>\n",
       "      <th>2</th>\n",
       "      <td>female</td>\n",
       "      <td>26.0</td>\n",
       "      <td>7.9250</td>\n",
       "      <td>1</td>\n",
       "    </tr>\n",
       "    <tr>\n",
       "      <th>3</th>\n",
       "      <td>female</td>\n",
       "      <td>35.0</td>\n",
       "      <td>53.1000</td>\n",
       "      <td>1</td>\n",
       "    </tr>\n",
       "    <tr>\n",
       "      <th>4</th>\n",
       "      <td>male</td>\n",
       "      <td>35.0</td>\n",
       "      <td>8.0500</td>\n",
       "      <td>0</td>\n",
       "    </tr>\n",
       "    <tr>\n",
       "      <th>...</th>\n",
       "      <td>...</td>\n",
       "      <td>...</td>\n",
       "      <td>...</td>\n",
       "      <td>...</td>\n",
       "    </tr>\n",
       "    <tr>\n",
       "      <th>886</th>\n",
       "      <td>male</td>\n",
       "      <td>27.0</td>\n",
       "      <td>13.0000</td>\n",
       "      <td>0</td>\n",
       "    </tr>\n",
       "    <tr>\n",
       "      <th>887</th>\n",
       "      <td>female</td>\n",
       "      <td>19.0</td>\n",
       "      <td>30.0000</td>\n",
       "      <td>1</td>\n",
       "    </tr>\n",
       "    <tr>\n",
       "      <th>888</th>\n",
       "      <td>female</td>\n",
       "      <td>NaN</td>\n",
       "      <td>23.4500</td>\n",
       "      <td>0</td>\n",
       "    </tr>\n",
       "    <tr>\n",
       "      <th>889</th>\n",
       "      <td>male</td>\n",
       "      <td>26.0</td>\n",
       "      <td>30.0000</td>\n",
       "      <td>1</td>\n",
       "    </tr>\n",
       "    <tr>\n",
       "      <th>890</th>\n",
       "      <td>male</td>\n",
       "      <td>32.0</td>\n",
       "      <td>7.7500</td>\n",
       "      <td>0</td>\n",
       "    </tr>\n",
       "  </tbody>\n",
       "</table>\n",
       "<p>891 rows × 4 columns</p>\n",
       "</div>"
      ],
      "text/plain": [
       "        Sex   Age     Fare  Survived\n",
       "0      male  22.0   7.2500         0\n",
       "1    female  38.0  71.2833         1\n",
       "2    female  26.0   7.9250         1\n",
       "3    female  35.0  53.1000         1\n",
       "4      male  35.0   8.0500         0\n",
       "..      ...   ...      ...       ...\n",
       "886    male  27.0  13.0000         0\n",
       "887  female  19.0  30.0000         1\n",
       "888  female   NaN  23.4500         0\n",
       "889    male  26.0  30.0000         1\n",
       "890    male  32.0   7.7500         0\n",
       "\n",
       "[891 rows x 4 columns]"
      ]
     },
     "execution_count": 7,
     "metadata": {},
     "output_type": "execute_result"
    }
   ],
   "source": [
    "df"
   ]
  },
  {
   "cell_type": "code",
   "execution_count": 8,
   "id": "74e22b7d",
   "metadata": {},
   "outputs": [
    {
     "data": {
      "text/plain": [
       "Sex           0\n",
       "Age         177\n",
       "Fare          0\n",
       "Survived      0\n",
       "dtype: int64"
      ]
     },
     "execution_count": 8,
     "metadata": {},
     "output_type": "execute_result"
    }
   ],
   "source": [
    "df.isnull().sum()"
   ]
  },
  {
   "cell_type": "code",
   "execution_count": 9,
   "id": "024529bb",
   "metadata": {},
   "outputs": [],
   "source": [
    "df['Age'] = df['Age'].fillna(df['Age'].mean())"
   ]
  },
  {
   "cell_type": "code",
   "execution_count": 10,
   "id": "637fc3ee",
   "metadata": {},
   "outputs": [
    {
     "data": {
      "text/plain": [
       "Sex         0\n",
       "Age         0\n",
       "Fare        0\n",
       "Survived    0\n",
       "dtype: int64"
      ]
     },
     "execution_count": 10,
     "metadata": {},
     "output_type": "execute_result"
    }
   ],
   "source": [
    "df.isnull().sum()"
   ]
  },
  {
   "cell_type": "code",
   "execution_count": null,
   "id": "e7dea1da",
   "metadata": {},
   "outputs": [],
   "source": [
    "cat_features = ['Sex']\n"
   ]
  },
  {
   "cell_type": "markdown",
   "id": "a0cdf303",
   "metadata": {},
   "source": [
    "# Installing catboost"
   ]
  },
  {
   "cell_type": "code",
   "execution_count": 16,
   "id": "577248c8",
   "metadata": {},
   "outputs": [],
   "source": [
    "from catboost import Pool"
   ]
  },
  {
   "cell_type": "code",
   "execution_count": 17,
   "id": "0c5065ab",
   "metadata": {},
   "outputs": [],
   "source": [
    "X = df.drop('Survived',axis=1)\n",
    "y = df['Survived']"
   ]
  },
  {
   "cell_type": "code",
   "execution_count": 18,
   "id": "5e24c962",
   "metadata": {},
   "outputs": [],
   "source": [
    "train_pool = Pool(data = X,label = y,cat_features =cat_features )"
   ]
  },
  {
   "cell_type": "markdown",
   "id": "8ffe06a6",
   "metadata": {},
   "source": [
    "# Model Training"
   ]
  },
  {
   "cell_type": "code",
   "execution_count": 19,
   "id": "bc1ea751",
   "metadata": {},
   "outputs": [],
   "source": [
    "from catboost import CatBoostClassifier\n",
    "model = CatBoostClassifier(iterations=100,depth=6,learning_rate=0.1,loss_function='Logloss')"
   ]
  },
  {
   "cell_type": "code",
   "execution_count": 21,
   "id": "a8900c36",
   "metadata": {},
   "outputs": [
    {
     "name": "stdout",
     "output_type": "stream",
     "text": [
      "0:\tlearn: 0.6603871\ttotal: 139ms\tremaining: 13.7s\n",
      "1:\tlearn: 0.6343104\ttotal: 140ms\tremaining: 6.84s\n",
      "2:\tlearn: 0.6089335\ttotal: 141ms\tremaining: 4.57s\n",
      "3:\tlearn: 0.5874608\ttotal: 142ms\tremaining: 3.42s\n",
      "4:\tlearn: 0.5709496\ttotal: 143ms\tremaining: 2.72s\n",
      "5:\tlearn: 0.5579391\ttotal: 144ms\tremaining: 2.26s\n",
      "6:\tlearn: 0.5438242\ttotal: 146ms\tremaining: 1.94s\n",
      "7:\tlearn: 0.5354969\ttotal: 146ms\tremaining: 1.68s\n",
      "8:\tlearn: 0.5283566\ttotal: 147ms\tremaining: 1.49s\n",
      "9:\tlearn: 0.5202180\ttotal: 149ms\tremaining: 1.34s\n",
      "10:\tlearn: 0.5132663\ttotal: 151ms\tremaining: 1.22s\n",
      "11:\tlearn: 0.5074868\ttotal: 152ms\tremaining: 1.11s\n",
      "12:\tlearn: 0.5027014\ttotal: 152ms\tremaining: 1.02s\n",
      "13:\tlearn: 0.4988173\ttotal: 153ms\tremaining: 940ms\n",
      "14:\tlearn: 0.4934432\ttotal: 155ms\tremaining: 876ms\n",
      "15:\tlearn: 0.4913401\ttotal: 155ms\tremaining: 814ms\n",
      "16:\tlearn: 0.4866078\ttotal: 157ms\tremaining: 765ms\n",
      "17:\tlearn: 0.4822219\ttotal: 159ms\tremaining: 722ms\n",
      "18:\tlearn: 0.4797302\ttotal: 160ms\tremaining: 681ms\n",
      "19:\tlearn: 0.4765268\ttotal: 161ms\tremaining: 642ms\n",
      "20:\tlearn: 0.4744559\ttotal: 162ms\tremaining: 608ms\n",
      "21:\tlearn: 0.4718430\ttotal: 163ms\tremaining: 579ms\n",
      "22:\tlearn: 0.4691123\ttotal: 166ms\tremaining: 556ms\n",
      "23:\tlearn: 0.4678808\ttotal: 168ms\tremaining: 533ms\n",
      "24:\tlearn: 0.4657730\ttotal: 170ms\tremaining: 510ms\n",
      "25:\tlearn: 0.4643453\ttotal: 172ms\tremaining: 490ms\n",
      "26:\tlearn: 0.4624085\ttotal: 174ms\tremaining: 470ms\n",
      "27:\tlearn: 0.4607363\ttotal: 176ms\tremaining: 453ms\n",
      "28:\tlearn: 0.4596743\ttotal: 178ms\tremaining: 435ms\n",
      "29:\tlearn: 0.4573067\ttotal: 179ms\tremaining: 418ms\n",
      "30:\tlearn: 0.4553564\ttotal: 181ms\tremaining: 402ms\n",
      "31:\tlearn: 0.4539448\ttotal: 182ms\tremaining: 387ms\n",
      "32:\tlearn: 0.4527741\ttotal: 184ms\tremaining: 374ms\n",
      "33:\tlearn: 0.4518956\ttotal: 185ms\tremaining: 360ms\n",
      "34:\tlearn: 0.4507461\ttotal: 187ms\tremaining: 347ms\n",
      "35:\tlearn: 0.4506129\ttotal: 188ms\tremaining: 334ms\n",
      "36:\tlearn: 0.4495516\ttotal: 189ms\tremaining: 322ms\n",
      "37:\tlearn: 0.4490654\ttotal: 191ms\tremaining: 311ms\n",
      "38:\tlearn: 0.4467538\ttotal: 192ms\tremaining: 300ms\n",
      "39:\tlearn: 0.4458657\ttotal: 194ms\tremaining: 290ms\n",
      "40:\tlearn: 0.4447938\ttotal: 195ms\tremaining: 281ms\n",
      "41:\tlearn: 0.4436133\ttotal: 197ms\tremaining: 272ms\n",
      "42:\tlearn: 0.4417658\ttotal: 198ms\tremaining: 263ms\n",
      "43:\tlearn: 0.4414168\ttotal: 199ms\tremaining: 253ms\n",
      "44:\tlearn: 0.4404993\ttotal: 201ms\tremaining: 245ms\n",
      "45:\tlearn: 0.4394594\ttotal: 202ms\tremaining: 237ms\n",
      "46:\tlearn: 0.4393177\ttotal: 204ms\tremaining: 230ms\n",
      "47:\tlearn: 0.4388134\ttotal: 206ms\tremaining: 223ms\n",
      "48:\tlearn: 0.4375368\ttotal: 208ms\tremaining: 217ms\n",
      "49:\tlearn: 0.4363998\ttotal: 211ms\tremaining: 211ms\n",
      "50:\tlearn: 0.4359562\ttotal: 213ms\tremaining: 205ms\n",
      "51:\tlearn: 0.4356933\ttotal: 215ms\tremaining: 198ms\n",
      "52:\tlearn: 0.4348888\ttotal: 216ms\tremaining: 192ms\n",
      "53:\tlearn: 0.4333792\ttotal: 218ms\tremaining: 186ms\n",
      "54:\tlearn: 0.4327923\ttotal: 219ms\tremaining: 180ms\n",
      "55:\tlearn: 0.4321384\ttotal: 221ms\tremaining: 174ms\n",
      "56:\tlearn: 0.4314968\ttotal: 223ms\tremaining: 168ms\n",
      "57:\tlearn: 0.4311717\ttotal: 224ms\tremaining: 162ms\n",
      "58:\tlearn: 0.4304625\ttotal: 225ms\tremaining: 157ms\n",
      "59:\tlearn: 0.4302333\ttotal: 227ms\tremaining: 151ms\n",
      "60:\tlearn: 0.4298746\ttotal: 228ms\tremaining: 146ms\n",
      "61:\tlearn: 0.4292052\ttotal: 230ms\tremaining: 141ms\n",
      "62:\tlearn: 0.4284502\ttotal: 231ms\tremaining: 136ms\n",
      "63:\tlearn: 0.4283169\ttotal: 233ms\tremaining: 131ms\n",
      "64:\tlearn: 0.4271042\ttotal: 235ms\tremaining: 127ms\n",
      "65:\tlearn: 0.4261226\ttotal: 237ms\tremaining: 122ms\n",
      "66:\tlearn: 0.4259219\ttotal: 239ms\tremaining: 117ms\n",
      "67:\tlearn: 0.4252938\ttotal: 240ms\tremaining: 113ms\n",
      "68:\tlearn: 0.4251319\ttotal: 242ms\tremaining: 109ms\n",
      "69:\tlearn: 0.4250116\ttotal: 243ms\tremaining: 104ms\n",
      "70:\tlearn: 0.4244877\ttotal: 245ms\tremaining: 100ms\n",
      "71:\tlearn: 0.4236250\ttotal: 246ms\tremaining: 95.8ms\n",
      "72:\tlearn: 0.4235460\ttotal: 247ms\tremaining: 91.5ms\n",
      "73:\tlearn: 0.4233281\ttotal: 249ms\tremaining: 87.4ms\n",
      "74:\tlearn: 0.4221051\ttotal: 250ms\tremaining: 83.5ms\n",
      "75:\tlearn: 0.4218691\ttotal: 252ms\tremaining: 79.5ms\n",
      "76:\tlearn: 0.4218003\ttotal: 253ms\tremaining: 75.7ms\n",
      "77:\tlearn: 0.4215203\ttotal: 255ms\tremaining: 71.8ms\n",
      "78:\tlearn: 0.4208444\ttotal: 257ms\tremaining: 68.2ms\n",
      "79:\tlearn: 0.4198874\ttotal: 258ms\tremaining: 64.5ms\n",
      "80:\tlearn: 0.4183406\ttotal: 260ms\tremaining: 60.9ms\n",
      "81:\tlearn: 0.4180312\ttotal: 261ms\tremaining: 57.3ms\n",
      "82:\tlearn: 0.4177144\ttotal: 263ms\tremaining: 53.8ms\n",
      "83:\tlearn: 0.4174971\ttotal: 264ms\tremaining: 50.3ms\n",
      "84:\tlearn: 0.4171883\ttotal: 266ms\tremaining: 46.9ms\n",
      "85:\tlearn: 0.4169118\ttotal: 267ms\tremaining: 43.5ms\n",
      "86:\tlearn: 0.4166459\ttotal: 269ms\tremaining: 40.1ms\n",
      "87:\tlearn: 0.4165171\ttotal: 270ms\tremaining: 36.8ms\n",
      "88:\tlearn: 0.4155629\ttotal: 272ms\tremaining: 33.6ms\n",
      "89:\tlearn: 0.4150075\ttotal: 273ms\tremaining: 30.4ms\n",
      "90:\tlearn: 0.4142745\ttotal: 275ms\tremaining: 27.2ms\n",
      "91:\tlearn: 0.4138117\ttotal: 277ms\tremaining: 24.1ms\n",
      "92:\tlearn: 0.4133011\ttotal: 279ms\tremaining: 21ms\n",
      "93:\tlearn: 0.4128478\ttotal: 281ms\tremaining: 17.9ms\n",
      "94:\tlearn: 0.4125575\ttotal: 283ms\tremaining: 14.9ms\n",
      "95:\tlearn: 0.4123785\ttotal: 285ms\tremaining: 11.9ms\n",
      "96:\tlearn: 0.4117176\ttotal: 287ms\tremaining: 8.88ms\n",
      "97:\tlearn: 0.4109999\ttotal: 289ms\tremaining: 5.89ms\n",
      "98:\tlearn: 0.4106517\ttotal: 290ms\tremaining: 2.93ms\n",
      "99:\tlearn: 0.4100068\ttotal: 293ms\tremaining: 0us\n"
     ]
    },
    {
     "data": {
      "text/plain": [
       "<catboost.core.CatBoostClassifier at 0x266f8cf5e50>"
      ]
     },
     "execution_count": 21,
     "metadata": {},
     "output_type": "execute_result"
    }
   ],
   "source": [
    "model.fit(train_pool)"
   ]
  },
  {
   "cell_type": "code",
   "execution_count": 22,
   "id": "3d99fe3b",
   "metadata": {},
   "outputs": [],
   "source": [
    "from sklearn.metrics import accuracy_score,classification_report\n",
    "y_pred = model.predict(train_pool)"
   ]
  },
  {
   "cell_type": "code",
   "execution_count": 25,
   "id": "086247e6",
   "metadata": {},
   "outputs": [
    {
     "data": {
      "text/plain": [
       "0.8148148148148148"
      ]
     },
     "execution_count": 25,
     "metadata": {},
     "output_type": "execute_result"
    }
   ],
   "source": [
    "accuracy = accuracy_score(y,y_pred)\n",
    "accuracy"
   ]
  },
  {
   "cell_type": "code",
   "execution_count": 26,
   "id": "eedb6f14",
   "metadata": {},
   "outputs": [
    {
     "name": "stdout",
     "output_type": "stream",
     "text": [
      "              precision    recall  f1-score   support\n",
      "\n",
      "           0       0.84      0.86      0.85       549\n",
      "           1       0.77      0.74      0.75       342\n",
      "\n",
      "    accuracy                           0.81       891\n",
      "   macro avg       0.81      0.80      0.80       891\n",
      "weighted avg       0.81      0.81      0.81       891\n",
      "\n"
     ]
    }
   ],
   "source": [
    "print(classification_report(y,y_pred))"
   ]
  },
  {
   "cell_type": "code",
   "execution_count": 27,
   "id": "a54afb7f",
   "metadata": {},
   "outputs": [],
   "source": [
    "feature_importance = model.get_feature_importance(prettified = True)"
   ]
  },
  {
   "cell_type": "code",
   "execution_count": 28,
   "id": "87fa59ae",
   "metadata": {},
   "outputs": [
    {
     "data": {
      "text/html": [
       "<div>\n",
       "<style scoped>\n",
       "    .dataframe tbody tr th:only-of-type {\n",
       "        vertical-align: middle;\n",
       "    }\n",
       "\n",
       "    .dataframe tbody tr th {\n",
       "        vertical-align: top;\n",
       "    }\n",
       "\n",
       "    .dataframe thead th {\n",
       "        text-align: right;\n",
       "    }\n",
       "</style>\n",
       "<table border=\"1\" class=\"dataframe\">\n",
       "  <thead>\n",
       "    <tr style=\"text-align: right;\">\n",
       "      <th></th>\n",
       "      <th>Feature Id</th>\n",
       "      <th>Importances</th>\n",
       "    </tr>\n",
       "  </thead>\n",
       "  <tbody>\n",
       "    <tr>\n",
       "      <th>0</th>\n",
       "      <td>Sex</td>\n",
       "      <td>60.575392</td>\n",
       "    </tr>\n",
       "    <tr>\n",
       "      <th>1</th>\n",
       "      <td>Fare</td>\n",
       "      <td>25.900567</td>\n",
       "    </tr>\n",
       "    <tr>\n",
       "      <th>2</th>\n",
       "      <td>Age</td>\n",
       "      <td>13.524041</td>\n",
       "    </tr>\n",
       "  </tbody>\n",
       "</table>\n",
       "</div>"
      ],
      "text/plain": [
       "  Feature Id  Importances\n",
       "0        Sex    60.575392\n",
       "1       Fare    25.900567\n",
       "2        Age    13.524041"
      ]
     },
     "execution_count": 28,
     "metadata": {},
     "output_type": "execute_result"
    }
   ],
   "source": [
    "feature_importance"
   ]
  },
  {
   "cell_type": "markdown",
   "id": "e5ba1fd5",
   "metadata": {},
   "source": [
    "# Testing"
   ]
  },
  {
   "cell_type": "code",
   "execution_count": 29,
   "id": "69eabb5c",
   "metadata": {},
   "outputs": [],
   "source": [
    "new_passenger = pd.DataFrame({\n",
    "    'Sex':['male'],\n",
    "    'Age':['25'],\n",
    "    'Fare':[10]\n",
    "})"
   ]
  },
  {
   "cell_type": "code",
   "execution_count": 30,
   "id": "0482d5c5",
   "metadata": {},
   "outputs": [],
   "source": [
    "new_passenger_pool = Pool(data=new_passenger, cat_features=cat_features)\n"
   ]
  },
  {
   "cell_type": "code",
   "execution_count": 31,
   "id": "6ae44df8",
   "metadata": {},
   "outputs": [],
   "source": [
    "predictions = model.predict(new_passenger_pool)"
   ]
  },
  {
   "cell_type": "code",
   "execution_count": 32,
   "id": "b16af9a4",
   "metadata": {},
   "outputs": [
    {
     "name": "stdout",
     "output_type": "stream",
     "text": [
      "Predicted Survival:  [0]\n"
     ]
    }
   ],
   "source": [
    "print(\"Predicted Survival: \",predictions)"
   ]
  },
  {
   "cell_type": "code",
   "execution_count": null,
   "id": "74740cd0",
   "metadata": {},
   "outputs": [],
   "source": [
    "# assignment : Movies,diabetes"
   ]
  },
  {
   "cell_type": "code",
   "execution_count": null,
   "id": "d237c94f",
   "metadata": {},
   "outputs": [],
   "source": [
    "\n",
    "#"
   ]
  }
 ],
 "metadata": {
  "kernelspec": {
   "display_name": "Python 3 (ipykernel)",
   "language": "python",
   "name": "python3"
  },
  "language_info": {
   "codemirror_mode": {
    "name": "ipython",
    "version": 3
   },
   "file_extension": ".py",
   "mimetype": "text/x-python",
   "name": "python",
   "nbconvert_exporter": "python",
   "pygments_lexer": "ipython3",
   "version": "3.11.2"
  }
 },
 "nbformat": 4,
 "nbformat_minor": 5
}
